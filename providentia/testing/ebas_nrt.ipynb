{
 "cells": [
  {
   "cell_type": "code",
   "execution_count": 1,
   "id": "ed763800-a01d-4630-9a30-1c1ab398e1b8",
   "metadata": {},
   "outputs": [],
   "source": [
    "import netCDF4 as nc\n",
    "import xarray as xr\n",
    "import numpy as np\n",
    "import os\n",
    "import requests\n",
    "from bs4 import BeautifulSoup\n",
    "import json"
   ]
  },
  {
   "cell_type": "markdown",
   "id": "a1d06061-94dc-4ce9-8c02-3b8591af654a",
   "metadata": {},
   "source": [
    "# Get filenames"
   ]
  },
  {
   "cell_type": "code",
   "execution_count": 2,
   "id": "4c2a0a45-e757-4766-98e2-6a0709dc8d1c",
   "metadata": {},
   "outputs": [],
   "source": [
    "def get_links(url):\n",
    "   response = requests.get(url)\n",
    "   response.raise_for_status()\n",
    "   soup = BeautifulSoup(response.content, 'html.parser')\n",
    "   links = soup.find_all('a')\n",
    "   return links"
   ]
  },
  {
   "cell_type": "code",
   "execution_count": 4,
   "id": "d587fc7e-b3c7-4157-b7d9-8411ac4c5d14",
   "metadata": {},
   "outputs": [],
   "source": [
    "def get_files()\n",
    "\n",
    "    to_ignore = ['ebasNRT.html',\n",
    "             '/thredds/catalog.html',\n",
    "             'https://nilu.no',\n",
    "             '/thredds/serverInfo.html',\n",
    "             'https://docs.unidata.ucar.edu/tds/4.6/adminguide/',\n",
    "             'catalog.html?dataset=STATIONS']\n",
    "    \n",
    "    files = []\n",
    "    url = 'https://thredds.nilu.no/thredds/catalog/stations/catalog.html'\n",
    "    links = get_links(url)\n",
    "    for a_tag in links:\n",
    "        link = a_tag.get('href')\n",
    "        if link not in to_ignore:\n",
    "            station = link.replace('/catalog.html', '')\n",
    "            url = f'https://thredds.nilu.no/thredds/catalog/stations/{station}/catalog.html'\n",
    "            links = get_links(url)\n",
    "            for a_tag in links:\n",
    "                link = a_tag.get('href')\n",
    "                if link not in to_ignore and not link.startswith('catalog.html?dataset=STATIONS/'):\n",
    "                    speci = link.replace('/catalog.html', '')\n",
    "                    url = f'https://thredds.nilu.no/thredds/catalog/stations/{station}/{speci}/catalog.html'\n",
    "                    links = get_links(url)\n",
    "                    for a_tag in links:\n",
    "                        link = a_tag.get('href')\n",
    "                        if link not in to_ignore and not link.startswith('catalog.html?dataset=STATIONS/'):\n",
    "                            date = link.replace('/catalog.html', '')\n",
    "                            url = f'https://thredds.nilu.no/thredds/catalog/stations/{station}/{speci}/{date}/catalog.html'\n",
    "                            links = get_links(url)\n",
    "                            for a_tag in links:\n",
    "                                link = a_tag.get('href')\n",
    "                                if link not in to_ignore and not link.startswith('catalog.html?dataset=STATIONS/'):\n",
    "                                    lev = link.replace('/catalog.html', '')\n",
    "                                    url = f'https://thredds.nilu.no/thredds/catalog/stations/{station}/{speci}/{date}/{lev}/catalog.html'\n",
    "                                    links = get_links(url)\n",
    "                                    for a_tag in links:\n",
    "                                        link = a_tag.get('href')\n",
    "                                        if link not in to_ignore and link != f'catalog.html?dataset=STATIONS/{station}/{speci}/{date}/{lev}':\n",
    "                                            data = link.replace(f'catalog.html?dataset=STATIONS/{station}/{speci}/{date}/{lev}/', '')\n",
    "                                            files.append(data)\n",
    "                                            \n",
    "\n",
    "    with open('ebas_nrt.json', 'w') as f:\n",
    "        json.dump(files, f)"
   ]
  },
  {
   "cell_type": "code",
   "execution_count": 7,
   "id": "9fd0ec9d-1cbd-4fc5-9d75-44194b9ed3a9",
   "metadata": {},
   "outputs": [],
   "source": [
    "with open('ebas_nrt.json') as f:\n",
    "    files = json.load(f)"
   ]
  },
  {
   "cell_type": "code",
   "execution_count": 10,
   "id": "339369e8-3c12-4777-ad4c-8d27f816daad",
   "metadata": {},
   "outputs": [
    {
     "name": "stderr",
     "output_type": "stream",
     "text": [
      "syntax error, unexpected WORD_WORD, expecting SCAN_ATTR or SCAN_DATASET or SCAN_ERROR\n",
      "context: <html^ xmlns=\"http://www.w3.org/1999/xhtml\" xml:lang=\"en\" lang=\"en\"> <head> <meta http-equiv=\"Content-Type\" content=\"text/html; charset=UTF-8\"> <title>TDS - Error report</title> <link rel=\"stylesheet\" href=\"/thredds/tds.css\" type=\"text/css\"/> </head> <body> <h1>HTTP Status 404 - Not Found</h1> <HR size=\"1\" noshade=\"noshade\"> <p><b>Status</b> 404 - Not Found</p> <HR size=\"1\" noshade=\"noshade\"> <h3>THREDDS Data Server Version 4.6 -- <a href='https://www.unidata.ucar.edu/software/thredds/v4.6/tds/TDS.html'>Documentation</a></h3> </body></html>\n",
      "syntax error, unexpected WORD_WORD, expecting SCAN_ATTR or SCAN_DATASET or SCAN_ERROR\n",
      "context: <html^ xmlns=\"http://www.w3.org/1999/xhtml\" xml:lang=\"en\" lang=\"en\"> <head> <meta http-equiv=\"Content-Type\" content=\"text/html; charset=UTF-8\"> <title>TDS - Error report</title> <link rel=\"stylesheet\" href=\"/thredds/tds.css\" type=\"text/css\"/> </head> <body> <h1>HTTP Status 404 - Not Found</h1> <HR size=\"1\" noshade=\"noshade\"> <p><b>Status</b> 404 - Not Found</p> <HR size=\"1\" noshade=\"noshade\"> <h3>THREDDS Data Server Version 4.6 -- <a href='https://www.unidata.ucar.edu/software/thredds/v4.6/tds/TDS.html'>Documentation</a></h3> </body></html>\n",
      "syntax error, unexpected WORD_WORD, expecting SCAN_ATTR or SCAN_DATASET or SCAN_ERROR\n",
      "context: <html^ xmlns=\"http://www.w3.org/1999/xhtml\" xml:lang=\"en\" lang=\"en\"> <head> <meta http-equiv=\"Content-Type\" content=\"text/html; charset=UTF-8\"> <title>TDS - Error report</title> <link rel=\"stylesheet\" href=\"/thredds/tds.css\" type=\"text/css\"/> </head> <body> <h1>HTTP Status 404 - Not Found</h1> <HR size=\"1\" noshade=\"noshade\"> <p><b>Status</b> 404 - Not Found</p> <HR size=\"1\" noshade=\"noshade\"> <h3>THREDDS Data Server Version 4.6 -- <a href='https://www.unidata.ucar.edu/software/thredds/v4.6/tds/TDS.html'>Documentation</a></h3> </body></html>\n",
      "syntax error, unexpected WORD_WORD, expecting SCAN_ATTR or SCAN_DATASET or SCAN_ERROR\n",
      "context: <html^ xmlns=\"http://www.w3.org/1999/xhtml\" xml:lang=\"en\" lang=\"en\"> <head> <meta http-equiv=\"Content-Type\" content=\"text/html; charset=UTF-8\"> <title>TDS - Error report</title> <link rel=\"stylesheet\" href=\"/thredds/tds.css\" type=\"text/css\"/> </head> <body> <h1>HTTP Status 404 - Not Found</h1> <HR size=\"1\" noshade=\"noshade\"> <p><b>Status</b> 404 - Not Found</p> <HR size=\"1\" noshade=\"noshade\"> <h3>THREDDS Data Server Version 4.6 -- <a href='https://www.unidata.ucar.edu/software/thredds/v4.6/tds/TDS.html'>Documentation</a></h3> </body></html>\n",
      "syntax error, unexpected WORD_WORD, expecting SCAN_ATTR or SCAN_DATASET or SCAN_ERROR\n",
      "context: <html^ xmlns=\"http://www.w3.org/1999/xhtml\" xml:lang=\"en\" lang=\"en\"> <head> <meta http-equiv=\"Content-Type\" content=\"text/html; charset=UTF-8\"> <title>TDS - Error report</title> <link rel=\"stylesheet\" href=\"/thredds/tds.css\" type=\"text/css\"/> </head> <body> <h1>HTTP Status 404 - Not Found</h1> <HR size=\"1\" noshade=\"noshade\"> <p><b>Status</b> 404 - Not Found</p> <HR size=\"1\" noshade=\"noshade\"> <h3>THREDDS Data Server Version 4.6 -- <a href='https://www.unidata.ucar.edu/software/thredds/v4.6/tds/TDS.html'>Documentation</a></h3> </body></html>\n",
      "syntax error, unexpected WORD_WORD, expecting SCAN_ATTR or SCAN_DATASET or SCAN_ERROR\n",
      "context: <html^ xmlns=\"http://www.w3.org/1999/xhtml\" xml:lang=\"en\" lang=\"en\"> <head> <meta http-equiv=\"Content-Type\" content=\"text/html; charset=UTF-8\"> <title>TDS - Error report</title> <link rel=\"stylesheet\" href=\"/thredds/tds.css\" type=\"text/css\"/> </head> <body> <h1>HTTP Status 404 - Not Found</h1> <HR size=\"1\" noshade=\"noshade\"> <p><b>Status</b> 404 - Not Found</p> <HR size=\"1\" noshade=\"noshade\"> <h3>THREDDS Data Server Version 4.6 -- <a href='https://www.unidata.ucar.edu/software/thredds/v4.6/tds/TDS.html'>Documentation</a></h3> </body></html>\n",
      "syntax error, unexpected WORD_WORD, expecting SCAN_ATTR or SCAN_DATASET or SCAN_ERROR\n",
      "context: <html^ xmlns=\"http://www.w3.org/1999/xhtml\" xml:lang=\"en\" lang=\"en\"> <head> <meta http-equiv=\"Content-Type\" content=\"text/html; charset=UTF-8\"> <title>TDS - Error report</title> <link rel=\"stylesheet\" href=\"/thredds/tds.css\" type=\"text/css\"/> </head> <body> <h1>HTTP Status 404 - Not Found</h1> <HR size=\"1\" noshade=\"noshade\"> <p><b>Status</b> 404 - Not Found</p> <HR size=\"1\" noshade=\"noshade\"> <h3>THREDDS Data Server Version 4.6 -- <a href='https://www.unidata.ucar.edu/software/thredds/v4.6/tds/TDS.html'>Documentation</a></h3> </body></html>\n",
      "syntax error, unexpected WORD_WORD, expecting SCAN_ATTR or SCAN_DATASET or SCAN_ERROR\n",
      "context: <html^ xmlns=\"http://www.w3.org/1999/xhtml\" xml:lang=\"en\" lang=\"en\"> <head> <meta http-equiv=\"Content-Type\" content=\"text/html; charset=UTF-8\"> <title>TDS - Error report</title> <link rel=\"stylesheet\" href=\"/thredds/tds.css\" type=\"text/css\"/> </head> <body> <h1>HTTP Status 404 - Not Found</h1> <HR size=\"1\" noshade=\"noshade\"> <p><b>Status</b> 404 - Not Found</p> <HR size=\"1\" noshade=\"noshade\"> <h3>THREDDS Data Server Version 4.6 -- <a href='https://www.unidata.ucar.edu/software/thredds/v4.6/tds/TDS.html'>Documentation</a></h3> </body></html>\n",
      "syntax error, unexpected WORD_WORD, expecting SCAN_ATTR or SCAN_DATASET or SCAN_ERROR\n",
      "context: <html^ xmlns=\"http://www.w3.org/1999/xhtml\" xml:lang=\"en\" lang=\"en\"> <head> <meta http-equiv=\"Content-Type\" content=\"text/html; charset=UTF-8\"> <title>TDS - Error report</title> <link rel=\"stylesheet\" href=\"/thredds/tds.css\" type=\"text/css\"/> </head> <body> <h1>HTTP Status 404 - Not Found</h1> <HR size=\"1\" noshade=\"noshade\"> <p><b>Status</b> 404 - Not Found</p> <HR size=\"1\" noshade=\"noshade\"> <h3>THREDDS Data Server Version 4.6 -- <a href='https://www.unidata.ucar.edu/software/thredds/v4.6/tds/TDS.html'>Documentation</a></h3> </body></html>\n"
     ]
    },
    {
     "name": "stdout",
     "output_type": "stream",
     "text": [
      "Total number of files: 315694\n",
      "OK: 0\n",
      "Error: 10\n"
     ]
    },
    {
     "name": "stderr",
     "output_type": "stream",
     "text": [
      "syntax error, unexpected WORD_WORD, expecting SCAN_ATTR or SCAN_DATASET or SCAN_ERROR\n",
      "context: <html^ xmlns=\"http://www.w3.org/1999/xhtml\" xml:lang=\"en\" lang=\"en\"> <head> <meta http-equiv=\"Content-Type\" content=\"text/html; charset=UTF-8\"> <title>TDS - Error report</title> <link rel=\"stylesheet\" href=\"/thredds/tds.css\" type=\"text/css\"/> </head> <body> <h1>HTTP Status 404 - Not Found</h1> <HR size=\"1\" noshade=\"noshade\"> <p><b>Status</b> 404 - Not Found</p> <HR size=\"1\" noshade=\"noshade\"> <h3>THREDDS Data Server Version 4.6 -- <a href='https://www.unidata.ucar.edu/software/thredds/v4.6/tds/TDS.html'>Documentation</a></h3> </body></html>\n"
     ]
    }
   ],
   "source": [
    "wrong_files = []\n",
    "correct_files = []\n",
    "actris_nrt_path = 'https://thredds.nilu.no/thredds/stations/'\n",
    "for file in files[0:10]:\n",
    "    variables = []\n",
    "    try:\n",
    "        opendap_url = f'{actris_nrt_path}/{file}'\n",
    "        ds = xr.open_dataset(opendap_url)\n",
    "        correct_files.append(file)\n",
    "    except Exception as error:\n",
    "        wrong_files.append(file)\n",
    "\n",
    "print(f'Total number of files: {len(files)}')\n",
    "print(f'OK: {len(correct_files)}')\n",
    "print(f'Error: {len(wrong_files)}')"
   ]
  },
  {
   "cell_type": "code",
   "execution_count": null,
   "id": "23d8a56e-9233-4f7f-b775-e32e227fa762",
   "metadata": {},
   "outputs": [],
   "source": []
  }
 ],
 "metadata": {
  "kernelspec": {
   "display_name": "Python 3 (ipykernel)",
   "language": "python",
   "name": "python3"
  },
  "language_info": {
   "codemirror_mode": {
    "name": "ipython",
    "version": 3
   },
   "file_extension": ".py",
   "mimetype": "text/x-python",
   "name": "python",
   "nbconvert_exporter": "python",
   "pygments_lexer": "ipython3",
   "version": "3.11.5"
  }
 },
 "nbformat": 4,
 "nbformat_minor": 5
}
