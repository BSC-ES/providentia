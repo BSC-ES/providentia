{
 "cells": [
  {
   "cell_type": "code",
   "execution_count": null,
   "id": "41e86a09-94a5-4e99-9c58-6c6ac7952ae8",
   "metadata": {
    "scrolled": true
   },
   "outputs": [],
   "source": [
    "# load Providentia interactive class\n",
    "from providentia import Interactive"
   ]
  },
  {
   "cell_type": "code",
   "execution_count": null,
   "id": "370a6d02-d580-4593-bfc5-6b4f02986b4a",
   "metadata": {},
   "outputs": [],
   "source": [
    "# magic to make plots appear inline\n",
    "%matplotlib inline"
   ]
  },
  {
   "cell_type": "code",
   "execution_count": null,
   "id": "f5c41142-eddb-4522-bb37-5fdcde5e292d",
   "metadata": {},
   "outputs": [],
   "source": [
    "provi = Interactive(conf='debug.conf')"
   ]
  },
  {
   "cell_type": "code",
   "execution_count": null,
   "id": "6547412e-4e3e-42a1-a7e7-2dad985485b3",
   "metadata": {},
   "outputs": [],
   "source": [
    "provi.make_plot('fairmode-target', annotate=True)"
   ]
  }
 ],
 "metadata": {
  "kernelspec": {
   "display_name": "Python 3 (ipykernel)",
   "language": "python",
   "name": "python3"
  },
  "language_info": {
   "codemirror_mode": {
    "name": "ipython",
    "version": 3
   },
   "file_extension": ".py",
   "mimetype": "text/x-python",
   "name": "python",
   "nbconvert_exporter": "python",
   "pygments_lexer": "ipython3",
   "version": "3.11.5"
  }
 },
 "nbformat": 4,
 "nbformat_minor": 5
}
