{
 "cells": [
  {
   "cell_type": "code",
   "execution_count": 1,
   "id": "41e86a09-94a5-4e99-9c58-6c6ac7952ae8",
   "metadata": {
    "scrolled": true
   },
   "outputs": [
    {
     "name": "stderr",
     "output_type": "stream",
     "text": [
      "/home/bsc/bsc032781/.local/lib/python3.11/site-packages/pypdf/_crypt_providers/_cryptography.py:32: CryptographyDeprecationWarning: ARC4 has been moved to cryptography.hazmat.decrepit.ciphers.algorithms.ARC4 and will be removed from this module in 48.0.0.\n",
      "  from cryptography.hazmat.primitives.ciphers.algorithms import AES, ARC4\n"
     ]
    }
   ],
   "source": [
    "# load Providentia interactive class\n",
    "from providentia import Interactive"
   ]
  },
  {
   "cell_type": "code",
   "execution_count": 2,
   "id": "370a6d02-d580-4593-bfc5-6b4f02986b4a",
   "metadata": {},
   "outputs": [],
   "source": [
    "# magic to make plots appear inline\n",
    "%matplotlib inline"
   ]
  },
  {
   "cell_type": "code",
   "execution_count": 3,
   "id": "f5c41142-eddb-4522-bb37-5fdcde5e292d",
   "metadata": {},
   "outputs": [
    {
     "name": "stdout",
     "output_type": "stream",
     "text": [
      "Generating file trees...\n",
      "Reading data\n",
      "Warning: There is no available observational data for the network|species: GHOST|sconcno3. Dropping.\n",
      "Warning: There is no available observational data for the network|species: EANET|sconcno3. Dropping.\n",
      "Warning: There is no available observational data for the network|species: US_EPA_CASTNET|sconcno3. Dropping.\n",
      "No valid data to read\n"
     ]
    }
   ],
   "source": [
    "provi = Interactive(conf='debug.conf')"
   ]
  },
  {
   "cell_type": "code",
   "execution_count": null,
   "id": "6547412e-4e3e-42a1-a7e7-2dad985485b3",
   "metadata": {},
   "outputs": [],
   "source": []
  }
 ],
 "metadata": {
  "kernelspec": {
   "display_name": "Python 3 (ipykernel)",
   "language": "python",
   "name": "python3"
  },
  "language_info": {
   "codemirror_mode": {
    "name": "ipython",
    "version": 3
   },
   "file_extension": ".py",
   "mimetype": "text/x-python",
   "name": "python",
   "nbconvert_exporter": "python",
   "pygments_lexer": "ipython3",
   "version": "3.11.5"
  }
 },
 "nbformat": 4,
 "nbformat_minor": 5
}
