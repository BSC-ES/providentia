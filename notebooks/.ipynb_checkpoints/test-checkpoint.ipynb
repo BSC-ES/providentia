{
 "cells": [
  {
   "cell_type": "code",
   "execution_count": 1,
   "metadata": {},
   "outputs": [],
   "source": [
    "import providentia"
   ]
  },
  {
   "cell_type": "code",
   "execution_count": 2,
   "metadata": {},
   "outputs": [
    {
     "name": "stdout",
     "output_type": "stream",
     "text": [
      "Warning: In interactive mode, only the first defined subsection will be read.\n",
      "Warning: Statistic mode (statistic_mode) was not defined in the configuration file. Using 'Flattened' as default.\n",
      "Reading data\n",
      "\n"
     ]
    },
    {
     "name": "stderr",
     "output_type": "stream",
     "text": [
      "/gpfs/projects/bsc32/software/suselinux/11/software/Python/3.7.4-GCCcore-8.3.0/lib/python3.7/_collections_abc.py:841: MatplotlibDeprecationWarning: \n",
      "The examples.directory rcparam was deprecated in Matplotlib 3.0 and will be removed in 3.2. In the future, examples will be found relative to the 'datapath' directory.\n",
      "  self[key] = other[key]\n",
      "/gpfs/projects/bsc32/software/suselinux/11/software/Python/3.7.4-GCCcore-8.3.0/lib/python3.7/_collections_abc.py:841: MatplotlibDeprecationWarning: \n",
      "The savefig.frameon rcparam was deprecated in Matplotlib 3.1 and will be removed in 3.3.\n",
      "  self[key] = other[key]\n",
      "/gpfs/projects/bsc32/software/suselinux/11/software/Python/3.7.4-GCCcore-8.3.0/lib/python3.7/_collections_abc.py:841: MatplotlibDeprecationWarning: \n",
      "The text.latex.unicode rcparam was deprecated in Matplotlib 3.0 and will be removed in 3.2.\n",
      "  self[key] = other[key]\n",
      "/gpfs/projects/bsc32/software/suselinux/11/software/Python/3.7.4-GCCcore-8.3.0/lib/python3.7/_collections_abc.py:841: MatplotlibDeprecationWarning: \n",
      "The verbose.fileo rcparam was deprecated in Matplotlib 3.1 and will be removed in 3.3.\n",
      "  self[key] = other[key]\n",
      "/gpfs/projects/bsc32/software/suselinux/11/software/Python/3.7.4-GCCcore-8.3.0/lib/python3.7/_collections_abc.py:841: MatplotlibDeprecationWarning: \n",
      "The verbose.level rcparam was deprecated in Matplotlib 3.1 and will be removed in 3.3.\n",
      "  self[key] = other[key]\n",
      "/.statelite/tmpfs/gpfs/archive/bsc32/esarchive/obs/ghost/scripts/Providentia-interactive/providentia/fields_menus.py:476: FutureWarning: elementwise comparison failed; returning scalar instead, but in the future will perform elementwise comparison\n",
      "  meta_var_field[np.where(meta_var_field == 'nan')[0]] = np.NaN\n"
     ]
    },
    {
     "name": "stdout",
     "output_type": "stream",
     "text": [
      "SELECTED SPECIES\n",
      "- Main network-species ['EBAS|sconco3']\n",
      "Filtering data\n",
      "\n"
     ]
    }
   ],
   "source": [
    "obj = providentia.read(config='configurations/debug.conf')"
   ]
  },
  {
   "cell_type": "code",
   "execution_count": 4,
   "metadata": {},
   "outputs": [
    {
     "data": {
      "text/plain": [
       "['N_inds_per_yearmonth',\n",
       " '__class__',\n",
       " '__delattr__',\n",
       " '__dict__',\n",
       " '__dir__',\n",
       " '__doc__',\n",
       " '__eq__',\n",
       " '__format__',\n",
       " '__ge__',\n",
       " '__getattribute__',\n",
       " '__gt__',\n",
       " '__hash__',\n",
       " '__init__',\n",
       " '__init_subclass__',\n",
       " '__le__',\n",
       " '__lt__',\n",
       " '__module__',\n",
       " '__ne__',\n",
       " '__new__',\n",
       " '__reduce__',\n",
       " '__reduce_ex__',\n",
       " '__repr__',\n",
       " '__setattr__',\n",
       " '__sizeof__',\n",
       " '__str__',\n",
       " '__subclasshook__',\n",
       " '__weakref__',\n",
       " 'active_dashboard_plots',\n",
       " 'active_frequency_code',\n",
       " 'all_observation_data',\n",
       " 'all_sections',\n",
       " 'available_cpus',\n",
       " 'available_experiment_data',\n",
       " 'available_networks',\n",
       " 'available_observation_data',\n",
       " 'available_resolutions',\n",
       " 'calibration_factor',\n",
       " 'cartopy_data_dir',\n",
       " 'child_subsection_names',\n",
       " 'config_dir',\n",
       " 'data_in_memory',\n",
       " 'data_in_memory_filtered',\n",
       " 'data_labels',\n",
       " 'datareader',\n",
       " 'default_qa_non_negative',\n",
       " 'default_qa_standard',\n",
       " 'end_date',\n",
       " 'exp_root',\n",
       " 'experiments',\n",
       " 'filenames',\n",
       " 'filter_data_in_memory',\n",
       " 'filter_networkspecies',\n",
       " 'filter_species',\n",
       " 'fixed_section_vars',\n",
       " 'flags',\n",
       " 'from_conf',\n",
       " 'ghost_data_in_memory',\n",
       " 'ghost_data_vars_to_read',\n",
       " 'ghost_metadata_dtype',\n",
       " 'ghost_metadata_vars_to_read',\n",
       " 'ghost_root',\n",
       " 'ghost_version',\n",
       " 'interactive',\n",
       " 'invalid_read',\n",
       " 'latitude',\n",
       " 'longitude',\n",
       " 'lower_bound',\n",
       " 'map_extent',\n",
       " 'measurement_units',\n",
       " 'metadata_dtype',\n",
       " 'metadata_in_memory',\n",
       " 'metadata_menu',\n",
       " 'metadata_types',\n",
       " 'metadata_vars_to_read',\n",
       " 'n_cpus',\n",
       " 'network',\n",
       " 'networkspecies',\n",
       " 'nonghost_root',\n",
       " 'nonghost_units',\n",
       " 'nonrelevant_temporal_resolutions',\n",
       " 'offline',\n",
       " 'parameter_dictionary',\n",
       " 'parent_section_names',\n",
       " 'period_menu',\n",
       " 'periodic_statistic_aggregation',\n",
       " 'periodic_statistic_mode',\n",
       " 'plot_characteristics_filename',\n",
       " 'plot_characteristics_templates',\n",
       " 'plotting_params',\n",
       " 'qa',\n",
       " 'qa_per_species',\n",
       " 'reading_ghost',\n",
       " 'relevant_temporal_resolutions',\n",
       " 'report_filename',\n",
       " 'report_stations',\n",
       " 'report_summary',\n",
       " 'report_title',\n",
       " 'report_type',\n",
       " 'representativity_menu',\n",
       " 'resampling',\n",
       " 'resampling_resolution',\n",
       " 'resolution',\n",
       " 'section',\n",
       " 'section_opts',\n",
       " 'spatial_colocation',\n",
       " 'species',\n",
       " 'standard_QA_name_to_QA_code',\n",
       " 'standard_data_flag_name_to_data_flag_code',\n",
       " 'standard_metadata',\n",
       " 'start_date',\n",
       " 'station_latitudes',\n",
       " 'station_longitudes',\n",
       " 'station_measurement_altitudes',\n",
       " 'station_names',\n",
       " 'station_references',\n",
       " 'statistic_aggregation',\n",
       " 'statistic_mode',\n",
       " 'sub_opts',\n",
       " 'subsection',\n",
       " 'subsection_names',\n",
       " 'subsection_opts',\n",
       " 'temporal_colocation',\n",
       " 'temporal_colocation_nans',\n",
       " 'time_array',\n",
       " 'timestamp_array',\n",
       " 'upper_bound',\n",
       " 'valid_station_inds',\n",
       " 'valid_station_inds_temporal_colocation',\n",
       " 'yearmonths']"
      ]
     },
     "execution_count": 4,
     "metadata": {},
     "output_type": "execute_result"
    }
   ],
   "source": [
    "dir(obj)"
   ]
  },
  {
   "cell_type": "code",
   "execution_count": null,
   "metadata": {},
   "outputs": [],
   "source": []
  }
 ],
 "metadata": {
  "kernelspec": {
   "display_name": "Python 3",
   "language": "python",
   "name": "python3"
  },
  "language_info": {
   "codemirror_mode": {
    "name": "ipython",
    "version": 3
   },
   "file_extension": ".py",
   "mimetype": "text/x-python",
   "name": "python",
   "nbconvert_exporter": "python",
   "pygments_lexer": "ipython3",
   "version": "3.7.4"
  }
 },
 "nbformat": 4,
 "nbformat_minor": 4
}
