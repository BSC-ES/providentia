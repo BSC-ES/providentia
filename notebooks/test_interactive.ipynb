{
 "cells": [
  {
   "cell_type": "code",
   "execution_count": 1,
   "metadata": {},
   "outputs": [],
   "source": [
    "# magic to make plots appear inline\n",
    "%matplotlib inline\n",
    "\n",
    "# load Providentia interactive class\n",
    "from providentia import Interactive"
   ]
  },
  {
   "cell_type": "code",
   "execution_count": null,
   "metadata": {},
   "outputs": [],
   "source": [
    "# read and filter data from .conf\n",
    "inst = Interactive(conf='test_interactive.conf', subsection='STANDARD·Spain')"
   ]
  },
  {
   "cell_type": "code",
   "execution_count": null,
   "metadata": {},
   "outputs": [],
   "source": [
    "# print .conf\n",
    "inst.print_config()"
   ]
  },
  {
   "cell_type": "code",
   "execution_count": null,
   "metadata": {},
   "outputs": [],
   "source": [
    "# save data to netCDF\n",
    "inst.save(format='nc')"
   ]
  },
  {
   "cell_type": "code",
   "execution_count": null,
   "metadata": {},
   "outputs": [],
   "source": [
    "# return data in memory (in Xarray format)\n",
    "data = inst.get_data(format='xr')\n",
    "data"
   ]
  },
  {
   "cell_type": "code",
   "execution_count": null,
   "metadata": {},
   "outputs": [],
   "source": [
    "# return specific variable in memory\n",
    "latitude_var = inst.get_var('EBAS|sconco3_latitude')\n",
    "latitude_var"
   ]
  },
  {
   "cell_type": "code",
   "execution_count": null,
   "metadata": {},
   "outputs": [],
   "source": [
    "# calculate and return statistics\n",
    "stat = inst.calculate_stat('r', labela='OBS', labelb='EMEP', per_station=True)\n",
    "stat"
   ]
  },
  {
   "cell_type": "code",
   "execution_count": null,
   "metadata": {},
   "outputs": [],
   "source": [
    "# reset filter\n",
    "#inst.reset_filter()"
   ]
  },
  {
   "cell_type": "code",
   "execution_count": null,
   "metadata": {},
   "outputs": [],
   "source": [
    "# filter data for a station\n",
    "#inst.select_station('AT0002R_UVP')\n",
    "#station_data = inst.get_data(format='xr')\n",
    "#station_data"
   ]
  },
  {
   "cell_type": "code",
   "execution_count": null,
   "metadata": {},
   "outputs": [],
   "source": [
    "# reset filter\n",
    "#inst.reset_filter()"
   ]
  },
  {
   "cell_type": "code",
   "execution_count": null,
   "metadata": {},
   "outputs": [],
   "source": [
    "# filter data for multiple stations\n",
    "#inst.select_station(['AT0002R_UVP','SK0007R_UVP'])\n",
    "#stations_data = inst.get_data(format='xr')\n",
    "#stations_data"
   ]
  },
  {
   "cell_type": "code",
   "execution_count": null,
   "metadata": {},
   "outputs": [],
   "source": [
    "# make a legend plot\n",
    "inst.make_plot('legend')"
   ]
  },
  {
   "cell_type": "code",
   "execution_count": null,
   "metadata": {},
   "outputs": [],
   "source": [
    "# make a metadata plot\n",
    "inst.make_plot('metadata')"
   ]
  },
  {
   "cell_type": "code",
   "execution_count": null,
   "metadata": {},
   "outputs": [],
   "source": [
    "# make a map plot (p95 statistic of Obs.)\n",
    "inst.make_plot('map-p95', labela='EMEP', map_extent=[-180, 180, -90, 90])"
   ]
  },
  {
   "cell_type": "code",
   "execution_count": null,
   "metadata": {},
   "outputs": [],
   "source": [
    "# make a map plot (r2 statistic)\n",
    "inst.make_plot('map-r2', labela='OBS', labelb='EMEP', map_extent=[-180, 180, -90, 90])"
   ]
  },
  {
   "cell_type": "code",
   "execution_count": null,
   "metadata": {},
   "outputs": [],
   "source": [
    "# make a timeseries plot\n",
    "inst.make_plot('timeseries', annotate=True, smooth=100, hidedata=True)"
   ]
  },
  {
   "cell_type": "code",
   "execution_count": null,
   "metadata": {},
   "outputs": [],
   "source": [
    "# make a periodic plot (p95 bias statistic)\n",
    "inst.make_plot('periodic-p95', plot_options=['annotate'])"
   ]
  },
  {
   "cell_type": "code",
   "execution_count": null,
   "metadata": {},
   "outputs": [],
   "source": [
    "# make a periodic plot (r statistic)\n",
    "inst.make_plot('periodic-r', plot_options=['annotate'])"
   ]
  },
  {
   "cell_type": "code",
   "execution_count": null,
   "metadata": {},
   "outputs": [],
   "source": [
    "# make a periodic-violin plot\n",
    "inst.make_plot('periodic-violin', plot_options=['annotate'], data_labels=['SILAM'])"
   ]
  },
  {
   "cell_type": "code",
   "execution_count": null,
   "metadata": {},
   "outputs": [],
   "source": [
    "# make a distribution plot\n",
    "inst.make_plot('distribution', annotate=['p5','p95'])"
   ]
  },
  {
   "cell_type": "code",
   "execution_count": null,
   "metadata": {},
   "outputs": [],
   "source": [
    "# make a scatter plot\n",
    "inst.make_plot('scatter', plot_options=['annotate','regression'])"
   ]
  },
  {
   "cell_type": "code",
   "execution_count": null,
   "metadata": {},
   "outputs": [],
   "source": [
    "# make a boxplot\n",
    "inst.make_plot('boxplot', plot_options=['annotate'])"
   ]
  },
  {
   "cell_type": "code",
   "execution_count": null,
   "metadata": {},
   "outputs": [],
   "source": [
    "# make a heatmap (Median stat)\n",
    "inst.make_plot('heatmap-Median', annotate=True, multispecies=True)"
   ]
  },
  {
   "cell_type": "code",
   "execution_count": null,
   "metadata": {},
   "outputs": [],
   "source": [
    "# make a table (p25 stat)\n",
    "inst.make_plot('table-p25')"
   ]
  },
  {
   "cell_type": "code",
   "execution_count": null,
   "metadata": {},
   "outputs": [],
   "source": [
    "# make a statsummary plot\n",
    "inst.make_plot('statsummary')"
   ]
  }
 ],
 "metadata": {
  "kernelspec": {
   "display_name": "Python 3",
   "language": "python",
   "name": "python3"
  },
  "language_info": {
   "codemirror_mode": {
    "name": "ipython",
    "version": 3
   },
   "file_extension": ".py",
   "mimetype": "text/x-python",
   "name": "python",
   "nbconvert_exporter": "python",
   "pygments_lexer": "ipython3",
   "version": "3.7.4"
  }
 },
 "nbformat": 4,
 "nbformat_minor": 4
}
