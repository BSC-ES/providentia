{
 "cells": [
  {
   "cell_type": "code",
   "execution_count": null,
   "metadata": {},
   "outputs": [
    {
     "ename": "",
     "evalue": "",
     "output_type": "error",
     "traceback": [
      "\u001b[1;31mRunning cells with '/usr/bin/python3' requires the ipykernel package.\n",
      "\u001b[1;31mRun the following command to install 'ipykernel' into the Python environment. \n",
      "\u001b[1;31mCommand: '/usr/bin/python3 -m pip install ipykernel -U --user --force-reinstall'"
     ]
    }
   ],
   "source": [
    "# load Providentia interactive class\n",
    "from providentia import Interactive"
   ]
  },
  {
   "cell_type": "code",
   "execution_count": null,
   "metadata": {},
   "outputs": [
    {
     "ename": "",
     "evalue": "",
     "output_type": "error",
     "traceback": [
      "\u001b[1;31mRunning cells with '/gpfs/projects/bsc32/software/suselinux/11/software/Python/3.7.4-GCCcore-8.3.0/bin/python' requires the ipykernel package.\n",
      "\u001b[1;31mRun the following command to install 'ipykernel' into the Python environment. \n",
      "\u001b[1;31mCommand: '/gpfs/projects/bsc32/software/suselinux/11/software/Python/3.7.4-GCCcore-8.3.0/bin/python -m pip install ipykernel -U --user --force-reinstall'"
     ]
    }
   ],
   "source": [
    "# magic to make plots appear inline\n",
    "%matplotlib inline"
   ]
  },
  {
   "cell_type": "code",
   "execution_count": null,
   "metadata": {},
   "outputs": [
    {
     "ename": "",
     "evalue": "",
     "output_type": "error",
     "traceback": [
      "\u001b[1;31mRunning cells with '/gpfs/projects/bsc32/software/suselinux/11/software/Python/3.7.4-GCCcore-8.3.0/bin/python' requires the ipykernel package.\n",
      "\u001b[1;31mRun the following command to install 'ipykernel' into the Python environment. \n",
      "\u001b[1;31mCommand: '/gpfs/projects/bsc32/software/suselinux/11/software/Python/3.7.4-GCCcore-8.3.0/bin/python -m pip install ipykernel -U --user --force-reinstall'"
     ]
    }
   ],
   "source": [
    "# read and filter data from .conf (keeping stations only in Spain)\n",
    "provi = Interactive(conf='local.conf', subsection=\"LOCAL·All\")"
   ]
  },
  {
   "cell_type": "code",
   "execution_count": null,
   "metadata": {},
   "outputs": [
    {
     "ename": "",
     "evalue": "",
     "output_type": "error",
     "traceback": [
      "\u001b[1;31mRunning cells with '/gpfs/projects/bsc32/software/suselinux/11/software/Python/3.7.4-GCCcore-8.3.0/bin/python' requires the ipykernel package.\n",
      "\u001b[1;31mRun the following command to install 'ipykernel' into the Python environment. \n",
      "\u001b[1;31mCommand: '/gpfs/projects/bsc32/software/suselinux/11/software/Python/3.7.4-GCCcore-8.3.0/bin/python -m pip install ipykernel -U --user --force-reinstall'"
     ]
    }
   ],
   "source": [
    "# print .conf\n",
    "provi.print_config()"
   ]
  },
  {
   "cell_type": "code",
   "execution_count": null,
   "metadata": {},
   "outputs": [
    {
     "ename": "",
     "evalue": "",
     "output_type": "error",
     "traceback": [
      "\u001b[1;31mRunning cells with '/gpfs/projects/bsc32/software/suselinux/11/software/Python/3.7.4-GCCcore-8.3.0/bin/python' requires the ipykernel package.\n",
      "\u001b[1;31mRun the following command to install 'ipykernel' into the Python environment. \n",
      "\u001b[1;31mCommand: '/gpfs/projects/bsc32/software/suselinux/11/software/Python/3.7.4-GCCcore-8.3.0/bin/python -m pip install ipykernel -U --user --force-reinstall'"
     ]
    }
   ],
   "source": [
    "# save data to netCDF\n",
    "provi.save(format='nc')"
   ]
  },
  {
   "cell_type": "code",
   "execution_count": null,
   "metadata": {},
   "outputs": [
    {
     "ename": "",
     "evalue": "",
     "output_type": "error",
     "traceback": [
      "\u001b[1;31mRunning cells with '/gpfs/projects/bsc32/software/suselinux/11/software/Python/3.7.4-GCCcore-8.3.0/bin/python' requires the ipykernel package.\n",
      "\u001b[1;31mRun the following command to install 'ipykernel' into the Python environment. \n",
      "\u001b[1;31mCommand: '/gpfs/projects/bsc32/software/suselinux/11/software/Python/3.7.4-GCCcore-8.3.0/bin/python -m pip install ipykernel -U --user --force-reinstall'"
     ]
    }
   ],
   "source": [
    "# return data in memory (in Xarray format)\n",
    "data = provi.get_data(format='xr')\n",
    "data"
   ]
  },
  {
   "cell_type": "code",
   "execution_count": null,
   "metadata": {},
   "outputs": [
    {
     "ename": "",
     "evalue": "",
     "output_type": "error",
     "traceback": [
      "\u001b[1;31mRunning cells with '/gpfs/projects/bsc32/software/suselinux/11/software/Python/3.7.4-GCCcore-8.3.0/bin/python' requires the ipykernel package.\n",
      "\u001b[1;31mRun the following command to install 'ipykernel' into the Python environment. \n",
      "\u001b[1;31mCommand: '/gpfs/projects/bsc32/software/suselinux/11/software/Python/3.7.4-GCCcore-8.3.0/bin/python -m pip install ipykernel -U --user --force-reinstall'"
     ]
    }
   ],
   "source": [
    "# return specific variable in memory\n",
    "latitude_var = provi.get_var('EBAS|sconco3_latitude')\n",
    "latitude_var"
   ]
  },
  {
   "cell_type": "code",
   "execution_count": null,
   "metadata": {},
   "outputs": [],
   "source": []
  },
  {
   "cell_type": "code",
   "execution_count": null,
   "metadata": {},
   "outputs": [
    {
     "ename": "",
     "evalue": "",
     "output_type": "error",
     "traceback": [
      "\u001b[1;31mRunning cells with '/gpfs/projects/bsc32/software/suselinux/11/software/Python/3.7.4-GCCcore-8.3.0/bin/python' requires the ipykernel package.\n",
      "\u001b[1;31mRun the following command to install 'ipykernel' into the Python environment. \n",
      "\u001b[1;31mCommand: '/gpfs/projects/bsc32/software/suselinux/11/software/Python/3.7.4-GCCcore-8.3.0/bin/python -m pip install ipykernel -U --user --force-reinstall'"
     ]
    }
   ],
   "source": [
    "# calculate and return statistics\n",
    "stat = provi.calculate_stat('r', labela='EBAS', labelb='MONARCH', per_station=True)\n",
    "stat"
   ]
  },
  {
   "cell_type": "code",
   "execution_count": null,
   "metadata": {},
   "outputs": [
    {
     "ename": "",
     "evalue": "",
     "output_type": "error",
     "traceback": [
      "\u001b[1;31mRunning cells with '/gpfs/projects/bsc32/software/suselinux/11/software/Python/3.7.4-GCCcore-8.3.0/bin/python' requires the ipykernel package.\n",
      "\u001b[1;31mRun the following command to install 'ipykernel' into the Python environment. \n",
      "\u001b[1;31mCommand: '/gpfs/projects/bsc32/software/suselinux/11/software/Python/3.7.4-GCCcore-8.3.0/bin/python -m pip install ipykernel -U --user --force-reinstall'"
     ]
    }
   ],
   "source": [
    "# reset filter entirely (meaning all stations are available rather than just Spanish)\n",
    "provi.reset_filter()"
   ]
  },
  {
   "cell_type": "code",
   "execution_count": null,
   "metadata": {},
   "outputs": [
    {
     "ename": "",
     "evalue": "",
     "output_type": "error",
     "traceback": [
      "\u001b[1;31mRunning cells with '/gpfs/projects/bsc32/software/suselinux/11/software/Python/3.7.4-GCCcore-8.3.0/bin/python' requires the ipykernel package.\n",
      "\u001b[1;31mRun the following command to install 'ipykernel' into the Python environment. \n",
      "\u001b[1;31mCommand: '/gpfs/projects/bsc32/software/suselinux/11/software/Python/3.7.4-GCCcore-8.3.0/bin/python -m pip install ipykernel -U --user --force-reinstall'"
     ]
    }
   ],
   "source": [
    "# filter data for multiple specific stations\n",
    "provi.select_station(['AT0002R_UVP','SK0007R_UVP'])\n",
    "stations_data = provi.get_data(format='xr')\n",
    "stations_data"
   ]
  },
  {
   "cell_type": "code",
   "execution_count": null,
   "metadata": {},
   "outputs": [
    {
     "ename": "",
     "evalue": "",
     "output_type": "error",
     "traceback": [
      "\u001b[1;31mRunning cells with '/gpfs/projects/bsc32/software/suselinux/11/software/Python/3.7.4-GCCcore-8.3.0/bin/python' requires the ipykernel package.\n",
      "\u001b[1;31mRun the following command to install 'ipykernel' into the Python environment. \n",
      "\u001b[1;31mCommand: '/gpfs/projects/bsc32/software/suselinux/11/software/Python/3.7.4-GCCcore-8.3.0/bin/python -m pip install ipykernel -U --user --force-reinstall'"
     ]
    }
   ],
   "source": [
    "# reset filter how it was when class was initialised, i.e. Spanish stations again\n",
    "provi.reset_filter(initialise=True)"
   ]
  },
  {
   "cell_type": "code",
   "execution_count": null,
   "metadata": {},
   "outputs": [
    {
     "ename": "",
     "evalue": "",
     "output_type": "error",
     "traceback": [
      "\u001b[1;31mRunning cells with '/gpfs/projects/bsc32/software/suselinux/11/software/Python/3.7.4-GCCcore-8.3.0/bin/python' requires the ipykernel package.\n",
      "\u001b[1;31mRun the following command to install 'ipykernel' into the Python environment. \n",
      "\u001b[1;31mCommand: '/gpfs/projects/bsc32/software/suselinux/11/software/Python/3.7.4-GCCcore-8.3.0/bin/python -m pip install ipykernel -U --user --force-reinstall'"
     ]
    }
   ],
   "source": [
    "# make a legend plot\n",
    "provi.make_plot('legend')"
   ]
  },
  {
   "cell_type": "code",
   "execution_count": null,
   "metadata": {},
   "outputs": [
    {
     "ename": "",
     "evalue": "",
     "output_type": "error",
     "traceback": [
      "\u001b[1;31mRunning cells with '/gpfs/projects/bsc32/software/suselinux/11/software/Python/3.7.4-GCCcore-8.3.0/bin/python' requires the ipykernel package.\n",
      "\u001b[1;31mRun the following command to install 'ipykernel' into the Python environment. \n",
      "\u001b[1;31mCommand: '/gpfs/projects/bsc32/software/suselinux/11/software/Python/3.7.4-GCCcore-8.3.0/bin/python -m pip install ipykernel -U --user --force-reinstall'"
     ]
    }
   ],
   "source": [
    "# make a metadata plot\n",
    "provi.make_plot('metadata')"
   ]
  },
  {
   "cell_type": "code",
   "execution_count": null,
   "metadata": {},
   "outputs": [
    {
     "ename": "",
     "evalue": "",
     "output_type": "error",
     "traceback": [
      "\u001b[1;31mRunning cells with '/gpfs/projects/bsc32/software/suselinux/11/software/Python/3.7.4-GCCcore-8.3.0/bin/python' requires the ipykernel package.\n",
      "\u001b[1;31mRun the following command to install 'ipykernel' into the Python environment. \n",
      "\u001b[1;31mCommand: '/gpfs/projects/bsc32/software/suselinux/11/software/Python/3.7.4-GCCcore-8.3.0/bin/python -m pip install ipykernel -U --user --force-reinstall'"
     ]
    }
   ],
   "source": [
    "# make a map plot (p95 statistic)\n",
    "provi.make_plot('map-p95', labela='MONARCH', map_extent=[-180, 180, -90, 90], domain=True)"
   ]
  },
  {
   "cell_type": "code",
   "execution_count": null,
   "metadata": {},
   "outputs": [
    {
     "ename": "",
     "evalue": "",
     "output_type": "error",
     "traceback": [
      "\u001b[1;31mRunning cells with '/gpfs/projects/bsc32/software/suselinux/11/software/Python/3.7.4-GCCcore-8.3.0/bin/python' requires the ipykernel package.\n",
      "\u001b[1;31mRun the following command to install 'ipykernel' into the Python environment. \n",
      "\u001b[1;31mCommand: '/gpfs/projects/bsc32/software/suselinux/11/software/Python/3.7.4-GCCcore-8.3.0/bin/python -m pip install ipykernel -U --user --force-reinstall'"
     ]
    }
   ],
   "source": [
    "# make a map plot (r2 statistic)\n",
    "provi.make_plot('map-r2', labela='EBAS', labelb='MONARCH', map_extent=[-180, 180, -90, 90])"
   ]
  },
  {
   "cell_type": "code",
   "execution_count": null,
   "metadata": {},
   "outputs": [
    {
     "ename": "",
     "evalue": "",
     "output_type": "error",
     "traceback": [
      "\u001b[1;31mRunning cells with '/gpfs/projects/bsc32/software/suselinux/11/software/Python/3.7.4-GCCcore-8.3.0/bin/python' requires the ipykernel package.\n",
      "\u001b[1;31mRun the following command to install 'ipykernel' into the Python environment. \n",
      "\u001b[1;31mCommand: '/gpfs/projects/bsc32/software/suselinux/11/software/Python/3.7.4-GCCcore-8.3.0/bin/python -m pip install ipykernel -U --user --force-reinstall'"
     ]
    }
   ],
   "source": [
    "# make a timeseries plot\n",
    "provi.make_plot('timeseries', annotate=True, smooth=100, hidedata=True)"
   ]
  },
  {
   "cell_type": "code",
   "execution_count": null,
   "metadata": {},
   "outputs": [
    {
     "ename": "",
     "evalue": "",
     "output_type": "error",
     "traceback": [
      "\u001b[1;31mRunning cells with '/gpfs/projects/bsc32/software/suselinux/11/software/Python/3.7.4-GCCcore-8.3.0/bin/python' requires the ipykernel package.\n",
      "\u001b[1;31mRun the following command to install 'ipykernel' into the Python environment. \n",
      "\u001b[1;31mCommand: '/gpfs/projects/bsc32/software/suselinux/11/software/Python/3.7.4-GCCcore-8.3.0/bin/python -m pip install ipykernel -U --user --force-reinstall'"
     ]
    }
   ],
   "source": [
    "provi.make_plot('timeseries-r-daily', annotate=True)"
   ]
  },
  {
   "cell_type": "code",
   "execution_count": null,
   "metadata": {},
   "outputs": [
    {
     "ename": "",
     "evalue": "",
     "output_type": "error",
     "traceback": [
      "\u001b[1;31mRunning cells with '/gpfs/projects/bsc32/software/suselinux/11/software/Python/3.7.4-GCCcore-8.3.0/bin/python' requires the ipykernel package.\n",
      "\u001b[1;31mRun the following command to install 'ipykernel' into the Python environment. \n",
      "\u001b[1;31mCommand: '/gpfs/projects/bsc32/software/suselinux/11/software/Python/3.7.4-GCCcore-8.3.0/bin/python -m pip install ipykernel -U --user --force-reinstall'"
     ]
    }
   ],
   "source": [
    "# make a periodic plot (p95 statistic)\n",
    "provi.make_plot('periodic-p95', plot_options=['annotate'])"
   ]
  },
  {
   "cell_type": "code",
   "execution_count": null,
   "metadata": {},
   "outputs": [
    {
     "ename": "",
     "evalue": "",
     "output_type": "error",
     "traceback": [
      "\u001b[1;31mRunning cells with '/gpfs/projects/bsc32/software/suselinux/11/software/Python/3.7.4-GCCcore-8.3.0/bin/python' requires the ipykernel package.\n",
      "\u001b[1;31mRun the following command to install 'ipykernel' into the Python environment. \n",
      "\u001b[1;31mCommand: '/gpfs/projects/bsc32/software/suselinux/11/software/Python/3.7.4-GCCcore-8.3.0/bin/python -m pip install ipykernel -U --user --force-reinstall'"
     ]
    }
   ],
   "source": [
    "# make a periodic plot (r statistic)\n",
    "provi.make_plot('periodic-r', plot_options=['annotate'])"
   ]
  },
  {
   "cell_type": "code",
   "execution_count": null,
   "metadata": {},
   "outputs": [
    {
     "ename": "",
     "evalue": "",
     "output_type": "error",
     "traceback": [
      "\u001b[1;31mRunning cells with '/gpfs/projects/bsc32/software/suselinux/11/software/Python/3.7.4-GCCcore-8.3.0/bin/python' requires the ipykernel package.\n",
      "\u001b[1;31mRun the following command to install 'ipykernel' into the Python environment. \n",
      "\u001b[1;31mCommand: '/gpfs/projects/bsc32/software/suselinux/11/software/Python/3.7.4-GCCcore-8.3.0/bin/python -m pip install ipykernel -U --user --force-reinstall'"
     ]
    }
   ],
   "source": [
    "# make a periodic-violin plot\n",
    "provi.make_plot('periodic-violin', plot_options=['annotate'])"
   ]
  },
  {
   "cell_type": "code",
   "execution_count": null,
   "metadata": {},
   "outputs": [
    {
     "ename": "",
     "evalue": "",
     "output_type": "error",
     "traceback": [
      "\u001b[1;31mRunning cells with '/gpfs/projects/bsc32/software/suselinux/11/software/Python/3.7.4-GCCcore-8.3.0/bin/python' requires the ipykernel package.\n",
      "\u001b[1;31mRun the following command to install 'ipykernel' into the Python environment. \n",
      "\u001b[1;31mCommand: '/gpfs/projects/bsc32/software/suselinux/11/software/Python/3.7.4-GCCcore-8.3.0/bin/python -m pip install ipykernel -U --user --force-reinstall'"
     ]
    }
   ],
   "source": [
    "# make a distribution plot\n",
    "provi.make_plot('distribution', annotate=['p5','p95'])"
   ]
  },
  {
   "cell_type": "code",
   "execution_count": null,
   "metadata": {},
   "outputs": [
    {
     "ename": "",
     "evalue": "",
     "output_type": "error",
     "traceback": [
      "\u001b[1;31mRunning cells with '/gpfs/projects/bsc32/software/suselinux/11/software/Python/3.7.4-GCCcore-8.3.0/bin/python' requires the ipykernel package.\n",
      "\u001b[1;31mRun the following command to install 'ipykernel' into the Python environment. \n",
      "\u001b[1;31mCommand: '/gpfs/projects/bsc32/software/suselinux/11/software/Python/3.7.4-GCCcore-8.3.0/bin/python -m pip install ipykernel -U --user --force-reinstall'"
     ]
    }
   ],
   "source": [
    "# make a scatter plot\n",
    "provi.make_plot('scatter', plot_options=['annotate','regression'])"
   ]
  },
  {
   "cell_type": "code",
   "execution_count": null,
   "metadata": {},
   "outputs": [
    {
     "ename": "",
     "evalue": "",
     "output_type": "error",
     "traceback": [
      "\u001b[1;31mRunning cells with '/gpfs/projects/bsc32/software/suselinux/11/software/Python/3.7.4-GCCcore-8.3.0/bin/python' requires the ipykernel package.\n",
      "\u001b[1;31mRun the following command to install 'ipykernel' into the Python environment. \n",
      "\u001b[1;31mCommand: '/gpfs/projects/bsc32/software/suselinux/11/software/Python/3.7.4-GCCcore-8.3.0/bin/python -m pip install ipykernel -U --user --force-reinstall'"
     ]
    }
   ],
   "source": [
    "# make a boxplot\n",
    "provi.make_plot('boxplot', plot_options=['annotate'])"
   ]
  },
  {
   "cell_type": "code",
   "execution_count": null,
   "metadata": {},
   "outputs": [
    {
     "ename": "",
     "evalue": "",
     "output_type": "error",
     "traceback": [
      "\u001b[1;31mRunning cells with '/gpfs/projects/bsc32/software/suselinux/11/software/Python/3.7.4-GCCcore-8.3.0/bin/python' requires the ipykernel package.\n",
      "\u001b[1;31mRun the following command to install 'ipykernel' into the Python environment. \n",
      "\u001b[1;31mCommand: '/gpfs/projects/bsc32/software/suselinux/11/software/Python/3.7.4-GCCcore-8.3.0/bin/python -m pip install ipykernel -U --user --force-reinstall'"
     ]
    }
   ],
   "source": [
    "# make a heatmap (Median stat)\n",
    "provi.make_plot('heatmap-Median', annotate=True, multispecies=True)"
   ]
  },
  {
   "cell_type": "code",
   "execution_count": null,
   "metadata": {},
   "outputs": [
    {
     "ename": "",
     "evalue": "",
     "output_type": "error",
     "traceback": [
      "\u001b[1;31mRunning cells with '/gpfs/projects/bsc32/software/suselinux/11/software/Python/3.7.4-GCCcore-8.3.0/bin/python' requires the ipykernel package.\n",
      "\u001b[1;31mRun the following command to install 'ipykernel' into the Python environment. \n",
      "\u001b[1;31mCommand: '/gpfs/projects/bsc32/software/suselinux/11/software/Python/3.7.4-GCCcore-8.3.0/bin/python -m pip install ipykernel -U --user --force-reinstall'"
     ]
    }
   ],
   "source": [
    "# make a table (p25 stat)\n",
    "provi.make_plot('table-p25', multispecies=True)"
   ]
  },
  {
   "cell_type": "code",
   "execution_count": null,
   "metadata": {},
   "outputs": [
    {
     "ename": "",
     "evalue": "",
     "output_type": "error",
     "traceback": [
      "\u001b[1;31mRunning cells with '/gpfs/projects/bsc32/software/suselinux/11/software/Python/3.7.4-GCCcore-8.3.0/bin/python' requires the ipykernel package.\n",
      "\u001b[1;31mRun the following command to install 'ipykernel' into the Python environment. \n",
      "\u001b[1;31mCommand: '/gpfs/projects/bsc32/software/suselinux/11/software/Python/3.7.4-GCCcore-8.3.0/bin/python -m pip install ipykernel -U --user --force-reinstall'"
     ]
    }
   ],
   "source": [
    "# make a statsummary plot\n",
    "provi.make_plot('statsummary', multispecies=True, bias=True)"
   ]
  },
  {
   "cell_type": "code",
   "execution_count": null,
   "metadata": {},
   "outputs": [
    {
     "ename": "",
     "evalue": "",
     "output_type": "error",
     "traceback": [
      "\u001b[1;31mRunning cells with '/gpfs/projects/bsc32/software/suselinux/11/software/Python/3.7.4-GCCcore-8.3.0/bin/python' requires the ipykernel package.\n",
      "\u001b[1;31mRun the following command to install 'ipykernel' into the Python environment. \n",
      "\u001b[1;31mCommand: '/gpfs/projects/bsc32/software/suselinux/11/software/Python/3.7.4-GCCcore-8.3.0/bin/python -m pip install ipykernel -U --user --force-reinstall'"
     ]
    }
   ],
   "source": [
    "# save a statsummary plot\n",
    "provi.make_plot('statsummary', multispecies=True, bias=True, save=True)"
   ]
  },
  {
   "cell_type": "code",
   "execution_count": null,
   "metadata": {},
   "outputs": [
    {
     "ename": "",
     "evalue": "",
     "output_type": "error",
     "traceback": [
      "\u001b[1;31mRunning cells with '/gpfs/projects/bsc32/software/suselinux/11/software/Python/3.7.4-GCCcore-8.3.0/bin/python' requires the ipykernel package.\n",
      "\u001b[1;31mRun the following command to install 'ipykernel' into the Python environment. \n",
      "\u001b[1;31mCommand: '/gpfs/projects/bsc32/software/suselinux/11/software/Python/3.7.4-GCCcore-8.3.0/bin/python -m pip install ipykernel -U --user --force-reinstall'"
     ]
    }
   ],
   "source": []
  }
 ],
 "metadata": {
  "kernelspec": {
   "display_name": "Python 3 (ipykernel)",
   "language": "python",
   "name": "python3"
  },
  "language_info": {
   "codemirror_mode": {
    "name": "ipython",
    "version": 3
   },
   "file_extension": ".py",
   "mimetype": "text/x-python",
   "name": "python",
   "nbconvert_exporter": "python",
   "pygments_lexer": "ipython3",
   "version": "3.6.8"
  }
 },
 "nbformat": 4,
 "nbformat_minor": 4
}
