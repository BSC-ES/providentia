{
 "cells": [
  {
   "cell_type": "code",
   "execution_count": 1,
   "id": "d79499b0-4a21-4118-a53f-64cbbb092677",
   "metadata": {},
   "outputs": [],
   "source": [
    "# import Providentia\n",
    "import providentia as prv\n",
    "import numpy as np\n",
    "import matplotlib.pyplot as plt"
   ]
  },
  {
   "cell_type": "code",
   "execution_count": 2,
   "id": "0f92f7d3-ba6e-40de-baeb-82eef1eaf9bd",
   "metadata": {},
   "outputs": [],
   "source": [
    "# magic to make plots appear inline\n",
    "%matplotlib inline"
   ]
  },
  {
   "cell_type": "code",
   "execution_count": 3,
   "id": "918b0b20-3736-4d05-9358-9b91fb3f046f",
   "metadata": {},
   "outputs": [
    {
     "name": "stdout",
     "output_type": "stream",
     "text": [
      "Generating file trees...\n",
      "Reading data\n",
      "Warning: There is no available observational data for the network|species: AERONET_v3_lev1.5|absae675-870aero. Dropping.\n",
      "Warning: There is no available observational data for the network|species: AERONET_v3_lev1.5|abswdaeaero. Dropping.\n",
      "Warning: There is no available observational data for the network|species: AERONET_v3_lev1.5|absod440aero. Dropping.\n",
      "Warning: There is no available observational data for the network|species: AERONET_v3_lev1.5|absod675aero. Dropping.\n",
      "Warning: There is no available observational data for the network|species: AERONET_v3_lev1.5|absod870aero. Dropping.\n",
      "No valid data to read\n"
     ]
    }
   ],
   "source": [
    "# read and filter data from .conf \n",
    "provi = prv.load('foci_wang.conf', section='AERONET1.5_FLAGL2')"
   ]
  },
  {
   "cell_type": "code",
   "execution_count": 4,
   "id": "744d9cbb-21da-42a2-bba5-aaa003cb125b",
   "metadata": {},
   "outputs": [
    {
     "ename": "IndexError",
     "evalue": "list index out of range",
     "output_type": "error",
     "traceback": [
      "\u001b[31m---------------------------------------------------------------------------\u001b[39m",
      "\u001b[31mIndexError\u001b[39m                                Traceback (most recent call last)",
      "\u001b[36mCell\u001b[39m\u001b[36m \u001b[39m\u001b[32mIn[4]\u001b[39m\u001b[32m, line 2\u001b[39m\n\u001b[32m      1\u001b[39m \u001b[38;5;66;03m# get data\u001b[39;00m\n\u001b[32m----> \u001b[39m\u001b[32m2\u001b[39m data = \u001b[43mprovi\u001b[49m\u001b[43m.\u001b[49m\u001b[43mdata\u001b[49m\u001b[43m(\u001b[49m\u001b[38;5;28;43mformat\u001b[39;49m\u001b[43m=\u001b[49m\u001b[33;43m'\u001b[39;49m\u001b[33;43mnc\u001b[39;49m\u001b[33;43m'\u001b[39;49m\u001b[43m)\u001b[49m\n\u001b[32m      3\u001b[39m wda = data[\u001b[33m'\u001b[39m\u001b[33mAERONET_v3_lev1.5|abswdaeaero_data\u001b[39m\u001b[33m'\u001b[39m][\u001b[32m0\u001b[39m,:,:]\n\u001b[32m      4\u001b[39m aae = data[\u001b[33m'\u001b[39m\u001b[33mAERONET_v3_lev1.5|absae675-870aero_data\u001b[39m\u001b[33m'\u001b[39m][\u001b[32m0\u001b[39m,:,:]\n",
      "\u001b[36mFile \u001b[39m\u001b[32m~/Providentia/providentia/library.py:1336\u001b[39m, in \u001b[36mLibrary.data\u001b[39m\u001b[34m(self, format)\u001b[39m\n\u001b[32m   1325\u001b[39m \u001b[38;5;250m\u001b[39m\u001b[33;03m\"\"\" Wrapper method return data / metadata in specific format.\u001b[39;00m\n\u001b[32m   1326\u001b[39m \n\u001b[32m   1327\u001b[39m \u001b[33;03m:param format: File format, defaults to 'nc'\u001b[39;00m\n\u001b[32m   (...)\u001b[39m\u001b[32m   1330\u001b[39m \u001b[33;03m:rtype: numpy.ndarray\u001b[39;00m\n\u001b[32m   1331\u001b[39m \u001b[33;03m\"\"\"\u001b[39;00m\n\u001b[32m   1333\u001b[39m \u001b[38;5;66;03m# for non-ghost, update networkspecies name \u001b[39;00m\n\u001b[32m   1334\u001b[39m \u001b[38;5;66;03m# (e.g. ghost_btx/ghost_btx|sconcc6h6 -> ghost_btx-ghost_btx|sconcc6h6)\u001b[39;00m\n\u001b[32m   1335\u001b[39m \u001b[38;5;66;03m# this will avoid permission denied errors\u001b[39;00m\n\u001b[32m-> \u001b[39m\u001b[32m1336\u001b[39m networkspeci = \u001b[38;5;28;43mself\u001b[39;49m\u001b[43m.\u001b[49m\u001b[43mnetworkspecies\u001b[49m\u001b[43m[\u001b[49m\u001b[32;43m0\u001b[39;49m\u001b[43m]\u001b[49m\n\u001b[32m   1337\u001b[39m \u001b[38;5;28;01mif\u001b[39;00m \u001b[33m'\u001b[39m\u001b[33m/\u001b[39m\u001b[33m'\u001b[39m \u001b[38;5;129;01min\u001b[39;00m networkspeci:\n\u001b[32m   1338\u001b[39m     networkspeci = networkspeci.replace(\u001b[33m'\u001b[39m\u001b[33m/\u001b[39m\u001b[33m'\u001b[39m, \u001b[33m'\u001b[39m\u001b[33m-\u001b[39m\u001b[33m'\u001b[39m)\n",
      "\u001b[31mIndexError\u001b[39m: list index out of range"
     ]
    }
   ],
   "source": [
    "# get data\n",
    "data = provi.data(format='nc')\n",
    "wda = data['AERONET_v3_lev1.5|abswdaeaero_data'][0,:,:]\n",
    "aae = data['AERONET_v3_lev1.5|absae675-870aero_data'][0,:,:]"
   ]
  },
  {
   "cell_type": "code",
   "execution_count": null,
   "id": "05e91375-4233-4147-b3dc-08a62021ab59",
   "metadata": {},
   "outputs": [],
   "source": [
    "# get seasonal averages\n",
    "wda_seas_ave = np.nanmean(wda.reshape(wda.shape[0], -1, 12), axis=-1)\n",
    "aae_seas_ave = np.nanmean(aae.reshape(aae.shape[0], -1, 12), axis=-1)\n",
    "\n",
    "# get indices of stations which have data for 3 months in at least 7 years\n",
    "n_invalid_months = np.count_nonzero(np.isnan(wda_seas_ave), axis=-1)\n",
    "\n",
    "# set station data with more than 3 years of missing data to NaN\n",
    "wda_seas_ave[n_invalid_months > 3, :] = np.NaN\n",
    "aae_seas_ave[n_invalid_months > 3, :] = np.NaN\n",
    "\n",
    "# get multi-year average\n",
    "wda_multiyear_ave = np.nanmean(wda_seas_ave, axis=-1)\n",
    "aae_multiyear_ave = np.nanmean(aae_seas_ave, axis=-1)"
   ]
  },
  {
   "cell_type": "code",
   "execution_count": null,
   "id": "db91ec01-fe8c-496f-a675-46a6f1a9072e",
   "metadata": {},
   "outputs": [],
   "source": [
    "# load mie bounds\n",
    "mie_theory = np.genfromtxt('aae_wda_mie_obiso.csv', delimiter=',', names=True)"
   ]
  },
  {
   "cell_type": "code",
   "execution_count": null,
   "id": "24620f1d-f78f-437d-bd88-cede92263cbd",
   "metadata": {},
   "outputs": [],
   "source": [
    "# make Wang plot\n",
    "plt.plot(aae_multiyear_ave, wda_multiyear_ave, marker='+', linestyle='None', color='red', label='DJF AAOD from AERONET')\n",
    "plt.plot(mie_theory['AAEstr'], mie_theory['WDAmed'], linestyle='-', color='black')\n",
    "plt.fill_between(mie_theory['AAEstr'], mie_theory['WDAmax'], mie_theory['WDAmin'], facecolor='black', alpha=0.3, label='BC from Mie calculations')\n",
    "plt.xlabel('AAE 675-870 nm')\n",
    "plt.ylabel('WDA')\n",
    "#plt.xlim(0, 1.55)\n",
    "#plt.ylim(-0.3, 0.7)\n",
    "plt.legend(frameon=False)\n",
    "plt.show()"
   ]
  },
  {
   "cell_type": "code",
   "execution_count": null,
   "id": "029e7e36-c7df-4cf9-b4f3-bdbfcb673f6b",
   "metadata": {},
   "outputs": [],
   "source": []
  }
 ],
 "metadata": {
  "kernelspec": {
   "display_name": "Python 3 (ipykernel)",
   "language": "python",
   "name": "python3"
  },
  "language_info": {
   "codemirror_mode": {
    "name": "ipython",
    "version": 3
   },
   "file_extension": ".py",
   "mimetype": "text/x-python",
   "name": "python",
   "nbconvert_exporter": "python",
   "pygments_lexer": "ipython3",
   "version": "3.11.5"
  }
 },
 "nbformat": 4,
 "nbformat_minor": 5
}
