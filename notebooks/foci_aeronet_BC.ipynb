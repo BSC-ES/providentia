{
 "cells": [
  {
   "cell_type": "code",
   "execution_count": 1,
   "id": "ca3bd65a-d893-4d26-8854-0ca3d91ec20a",
   "metadata": {},
   "outputs": [],
   "source": [
    "# import Providentia\n",
    "import providentia as prv"
   ]
  },
  {
   "cell_type": "code",
   "execution_count": 2,
   "id": "fe79788c-2bc4-4ef0-831c-3c99dde8cf23",
   "metadata": {},
   "outputs": [],
   "source": [
    "# magic to make plots appear inline\n",
    "%matplotlib inline"
   ]
  },
  {
   "cell_type": "code",
   "execution_count": 3,
   "id": "6141452b-bdbe-481c-8a1f-2b07fd990d02",
   "metadata": {},
   "outputs": [
    {
     "name": "stdout",
     "output_type": "stream",
     "text": [
      "Reading data\n",
      "SELECTED SPECIES\n",
      "- Main network-species ['AERONET_v3_lev1.5|absod440bc']\n",
      "Resetting filter\n",
      "Filtering data\n"
     ]
    }
   ],
   "source": [
    "# read and filter data from .conf \n",
    "provi = prv.load('foci_aeronet_BC.conf', section='AERONET1.5_FLAGL2')"
   ]
  },
  {
   "cell_type": "code",
   "execution_count": 4,
   "id": "434272fe-9d7b-4c16-b74d-ec1d55ee1cd6",
   "metadata": {
    "scrolled": true
   },
   "outputs": [
    {
     "name": "stdout",
     "output_type": "stream",
     "text": [
      "Warning: Width and/or height have not been passed. The default values will be set.\n",
      "Saving periodic-Mean figure to BC.png\n"
     ]
    }
   ],
   "source": [
    "# make a periodic plot\n",
    "provi.plot('periodic-Mean', save='BC.png')"
   ]
  }
 ],
 "metadata": {
  "kernelspec": {
   "display_name": "Python 3 (ipykernel)",
   "language": "python",
   "name": "python3"
  },
  "language_info": {
   "codemirror_mode": {
    "name": "ipython",
    "version": 3
   },
   "file_extension": ".py",
   "mimetype": "text/x-python",
   "name": "python",
   "nbconvert_exporter": "python",
   "pygments_lexer": "ipython3",
   "version": "3.11.5"
  }
 },
 "nbformat": 4,
 "nbformat_minor": 5
}
